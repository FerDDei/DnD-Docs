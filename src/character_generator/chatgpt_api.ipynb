{
 "cells": [
  {
   "cell_type": "code",
   "execution_count": 37,
   "metadata": {},
   "outputs": [
    {
     "data": {
      "text/plain": [
       "True"
      ]
     },
     "execution_count": 37,
     "metadata": {},
     "output_type": "execute_result"
    }
   ],
   "source": [
    "from dotenv import load_dotenv\n",
    "import os\n",
    "from openai import OpenAI\n",
    "import ast\n",
    "import json\n",
    "\n",
    "load_dotenv()"
   ]
  },
  {
   "cell_type": "code",
   "execution_count": 135,
   "metadata": {},
   "outputs": [],
   "source": [
    "def extract_json_from_prompt(prompt):\n",
    "    \n",
    "    # Load the JSON string into a dictionary to ensure it's valid JSON\n",
    "    json_data = json.loads(prompt)\n",
    "    \n",
    "    return json_data"
   ]
  },
  {
   "cell_type": "code",
   "execution_count": 122,
   "metadata": {},
   "outputs": [],
   "source": [
    "input_json = {\n",
    "    \"monster_url\": \"URL to the monster's reference page or image\",\n",
    "    \"monster_name\": \"Name of the monster, typically unique or descriptive\",\n",
    "    \"monster_type\": \"Monster type, such as Beast, Celestial, Construct, Dragon, Elemental, Fey, Fiend, Giant, Humanoid, Monstrosity, Ooze, Plant, Undead\",\n",
    "    \"monster_alignment\": \"Alignment of the monster, such as Lawful Good, Chaotic Evil, Neutral, etc.\",\n",
    "    \"armor_class\": \"Armor Class (AC), a number that indicates how hard it is to hit the monster\",\n",
    "    \"armor_type\": \"Type of armor or natural defense, like 'Natural Armor' or 'Chain Mail'\",\n",
    "    \"hit_points\": \"Total hit points (HP) of the monster, e.g., '85'\",\n",
    "    \"hit_dice\": \"Hit dice used to calculate hit points, e.g., '10d10+30'\",\n",
    "    \"speed\": \"Movement speed of the monster, e.g., '40 ft.'\",\n",
    "    \"strength\": \"Strength ability score, a number between 1-30\",\n",
    "    \"dexterity\": \"Dexterity ability score, a number between 1-30\",\n",
    "    \"constitution\": \"Constitution ability score, a number between 1-30\",\n",
    "    \"intelligence\": \"Intelligence ability score, a number between 1-30\",\n",
    "    \"wisdom\": \"Wisdom ability score, a number between 1-30\",\n",
    "    \"charisma\": \"Charisma ability score, a number between 1-30\",\n",
    "    \"darkvision_url\": \"URL to a reference explaining darkvision or an image representing it\",\n",
    "    \"darkvision\": \"Description of darkvision range, e.g., 'Darkvision 60 ft.'\",\n",
    "    \"passive_perception\": \"Passive Perception score, a number based on Wisdom modifier and proficiency\",\n",
    "    \"languages\": \"Languages the monster can speak or understand, e.g., 'Common, Giant'\",\n",
    "    \"challenge\": \"Challenge rating (CR), a number between 0 and 30 representing the monster's difficulty\",\n",
    "    \"proficiency_bonus\": \"Proficiency bonus, calculated based on challenge rating\",\n",
    "    \"special_ability_name\": \"Name of a special ability or trait\",\n",
    "    \"special_ability_description\": \"Detailed description of the special ability or trait\",\n",
    "    \"action_name_1\": \"Name of the first action the monster can take\",\n",
    "    \"action_name_1_description\": \"Detailed description of the first action\",\n",
    "    \"action_name\": \"Name of another action the monster can take\",\n",
    "    \"action_description\": \"Detailed description of this action\",\n",
    "    \"hit_roll\": \"Formula for the attack roll, e.g., '1d20 + 6'\",\n",
    "    \"hit_modifier\": \"Modifier added to the attack roll, e.g., '+6'\",\n",
    "    \"reach_distance\": \"Reach distance for melee attacks, e.g., '10 ft.'\",\n",
    "    \"damage_amount\": \"Average damage dealt by the attack, e.g., '15 (2d8 + 4)'\",\n",
    "    \"damage_roll\": \"Damage roll formula, e.g., '2d8+4'\",\n",
    "    \"damage_type\": \"Type of damage dealt, e.g., 'bludgeoning'\",\n",
    "    \"character_name\": \"Name of the NPC/character\",\n",
    "    \"character_description\": \"Detailed description of the NPC/character's appearance and notable traits\",\n",
    "    \"proficiencies\": \"Skills and proficiencies the character has, e.g., 'Strength, Athletics'\",\n",
    "    \"special_skills\": \"Any special skills the character possesses, e.g., 'Intimidation, Survival'\",\n",
    "    \"unique_behaviors\": \"Unique behaviors or habits, e.g., 'Enjoys crushing boulders and intimidating smaller creatures.'\",\n",
    "    \"typical_attitude\": \"Typical attitude or demeanor, e.g., 'Aggressive and territorial'\",\n",
    "    \"useful_knowledge\": \"Any useful knowledge the character has, e.g., 'Knows the locations of hidden caves and treasure troves in the mountains.'\",\n",
    "    \"ideals\": \"Character's ideals, e.g., 'Strength and Power'\",\n",
    "    \"bonds\": \"Bonds or relationships the character holds dear, e.g., 'Bound to his ogre tribe.'\",\n",
    "    \"flaws_or_secrets\": \"Flaws or secrets of the character, e.g., 'Has a fear of fire and can be easily spooked by it.'\",\n",
    "    \"weapons\": \"Weapons the character uses, e.g., 'Greatclub'\",\n",
    "    \"armor\": \"Armor the character wears, if any, e.g., 'None'\",\n",
    "    \"other_items\": \"Other items the character carries, e.g., 'Tribal Totem'\",\n",
    "    \"backstory\": \"Detailed backstory of the character, e.g., 'Grog grew up in a tribe of ogres in the mountains, known for his immense strength and brutal nature. He now leads his tribe in raids against nearby settlements.'\",\n",
    "    \"additional_notes\": \"Any additional notes or information about the character, e.g., 'Despite his brute strength, Grog is not very intelligent and can be outwitted with clever tactics.'\"\n",
    "}"
   ]
  },
  {
   "cell_type": "code",
   "execution_count": 39,
   "metadata": {},
   "outputs": [],
   "source": [
    "client = OpenAI(\n",
    "    # This is the default and can be omitted\n",
    "    api_key=os.environ.get(\"OPENAI_API_KEY\"),\n",
    ")"
   ]
  },
  {
   "cell_type": "code",
   "execution_count": 125,
   "metadata": {},
   "outputs": [],
   "source": [
    "import re\n",
    "\n",
    "def generate_new_values(client, prompt):\n",
    "    # Create chat completion\n",
    "    chat_completion = client.chat.completions.create(\n",
    "        messages=[\n",
    "            {\n",
    "                \"role\": \"user\",\n",
    "                \"content\": prompt,\n",
    "            }\n",
    "        ],\n",
    "        model=\"gpt-4o\",\n",
    "        max_tokens=3000,\n",
    "        temperature=0.7,\n",
    "        n=1,\n",
    "        stop=None\n",
    "    )\n",
    "\n",
    "    chat_completion = chat_completion.choices[0].message.content\n",
    "\n",
    "    # Use regular expression to extract content between ```json and ```\n",
    "    match = re.search(r'```json\\s*(.*?)\\s*```', chat_completion, re.DOTALL)\n",
    "    if match:\n",
    "        cleaned_output = match.group(1).strip()\n",
    "    else:\n",
    "        cleaned_output = chat_completion.strip()  # Fallback in case the pattern is not found\n",
    "\n",
    "    return cleaned_output"
   ]
  },
  {
   "cell_type": "code",
   "execution_count": 151,
   "metadata": {},
   "outputs": [],
   "source": [
    "character_info = \"a basic pirate guard\""
   ]
  },
  {
   "cell_type": "code",
   "execution_count": 152,
   "metadata": {},
   "outputs": [],
   "source": [
    "character_info += '. Make the difficulty for level 1 DnD players'"
   ]
  },
  {
   "cell_type": "code",
   "execution_count": 153,
   "metadata": {},
   "outputs": [
    {
     "data": {
      "text/plain": [
       "'a basic pirate guard. Make the difficulty for level 1 DnD players'"
      ]
     },
     "execution_count": 153,
     "metadata": {},
     "output_type": "execute_result"
    }
   ],
   "source": [
    "character_info"
   ]
  },
  {
   "cell_type": "code",
   "execution_count": 154,
   "metadata": {},
   "outputs": [],
   "source": [
    "prompt = (\n",
    "    f\"Here is added information about the character I would like you to include to know about: {character_info}\\n\"\n",
    "    \"Generate new values for each of the keys in this JSON structure:\\n\"\n",
    "    f\"Here is the new JSON with generated values:\\n{input_json}\\n\\n\"\n",
    ")"
   ]
  },
  {
   "cell_type": "code",
   "execution_count": 155,
   "metadata": {},
   "outputs": [],
   "source": [
    "chat_completion = generate_new_values(client=client, prompt=prompt)"
   ]
  },
  {
   "cell_type": "code",
   "execution_count": 156,
   "metadata": {},
   "outputs": [
    {
     "data": {
      "text/plain": [
       "'{\\n  \"monster_url\": \"https://example.com/pirate_guard_image\",\\n  \"monster_name\": \"Pirate Guard\",\\n  \"monster_type\": \"Humanoid\",\\n  \"monster_alignment\": \"Chaotic Neutral\",\\n  \"armor_class\": \"12\",\\n  \"armor_type\": \"Leather Armor\",\\n  \"hit_points\": \"11\",\\n  \"hit_dice\": \"2d8+2\",\\n  \"speed\": \"30 ft.\",\\n  \"strength\": \"13\",\\n  \"dexterity\": \"14\",\\n  \"constitution\": \"12\",\\n  \"intelligence\": \"10\",\\n  \"wisdom\": \"11\",\\n  \"charisma\": \"9\",\\n  \"darkvision_url\": \"https://example.com/darkvision_info\",\\n  \"darkvision\": \"None\",\\n  \"passive_perception\": \"10\",\\n  \"languages\": \"Common, Thieves\\' Cant\",\\n  \"challenge\": \"1/4\",\\n  \"proficiency_bonus\": \"+2\",\\n  \"special_ability_name\": \"Pirate\\'s Resilience\",\\n  \"special_ability_description\": \"The pirate guard has advantage on saving throws against being frightened.\",\\n  \"action_name_1\": \"Scimitar\",\\n  \"action_name_1_description\": \"Melee Weapon Attack: +4 to hit, reach 5 ft., one target. Hit: 5 (1d6 + 2) slashing damage.\",\\n  \"action_name\": \"Pistol\",\\n  \"action_description\": \"Ranged Weapon Attack: +4 to hit, range 30/90 ft., one target. Hit: 7 (1d10 + 2) piercing damage.\",\\n  \"hit_roll\": \"1d20 + 4\",\\n  \"hit_modifier\": \"+4\",\\n  \"reach_distance\": \"5 ft.\",\\n  \"damage_amount\": \"5 (1d6 + 2)\",\\n  \"damage_roll\": \"1d6 + 2\",\\n  \"damage_type\": \"slashing\",\\n  \"character_name\": \"Finn the Guard\",\\n  \"character_description\": \"Finn is a scrappy pirate with a weathered face and numerous scars. He wears a tattered leather vest and a red bandana.\",\\n  \"proficiencies\": \"Dexterity, Athletics, Perception\",\\n  \"special_skills\": \"Intimidation, Sailing\",\\n  \"unique_behaviors\": \"Often sharpens his scimitar and whistles sea shanties.\",\\n  \"typical_attitude\": \"Gruff and suspicious\",\\n  \"useful_knowledge\": \"Knows the layout of the pirate ship and can identify other crew members.\",\\n  \"ideals\": \"Freedom and Loot\",\\n  \"bonds\": \"Loyal to the Pirate Captain\",\\n  \"flaws_or_secrets\": \"Has a secret fear of deep water due to a near-drowning incident.\",\\n  \"weapons\": \"Scimitar, Pistol\",\\n  \"armor\": \"Leather Armor\",\\n  \"other_items\": \"A small pouch of stolen gold coins\",\\n  \"backstory\": \"Finn grew up in a coastal town and was orphaned at a young age. He joined a pirate crew for survival and has been with them ever since.\",\\n  \"additional_notes\": \"Finn is not very bright but is fiercely loyal to his crew. He can be bribed with enough gold.\"\\n}'"
      ]
     },
     "execution_count": 156,
     "metadata": {},
     "output_type": "execute_result"
    }
   ],
   "source": [
    "chat_completion"
   ]
  },
  {
   "cell_type": "code",
   "execution_count": 157,
   "metadata": {},
   "outputs": [],
   "source": [
    "content_json = extract_json_from_prompt(chat_completion)"
   ]
  },
  {
   "cell_type": "code",
   "execution_count": 158,
   "metadata": {},
   "outputs": [
    {
     "name": "stdout",
     "output_type": "stream",
     "text": [
      "Generated JSON has the correct number of keys.\n"
     ]
    }
   ],
   "source": [
    "if len(content_json) == len(input_json):\n",
    "    print(\"Generated JSON has the correct number of keys.\")"
   ]
  },
  {
   "cell_type": "code",
   "execution_count": 159,
   "metadata": {},
   "outputs": [],
   "source": [
    "import json\n",
    "file_name = 'content.json'\n",
    "\n",
    "with open(file_name, 'w') as f:\n",
    "    json.dump(content_json, f, indent=4)"
   ]
  },
  {
   "cell_type": "code",
   "execution_count": null,
   "metadata": {},
   "outputs": [],
   "source": []
  }
 ],
 "metadata": {
  "kernelspec": {
   "display_name": "synth-cpt_py310",
   "language": "python",
   "name": "python3"
  },
  "language_info": {
   "codemirror_mode": {
    "name": "ipython",
    "version": 3
   },
   "file_extension": ".py",
   "mimetype": "text/x-python",
   "name": "python",
   "nbconvert_exporter": "python",
   "pygments_lexer": "ipython3",
   "version": "3.1.undefined"
  }
 },
 "nbformat": 4,
 "nbformat_minor": 2
}
