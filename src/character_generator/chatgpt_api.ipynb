{
 "cells": [
  {
   "cell_type": "code",
   "execution_count": 23,
   "metadata": {},
   "outputs": [
    {
     "data": {
      "text/plain": [
       "True"
      ]
     },
     "execution_count": 23,
     "metadata": {},
     "output_type": "execute_result"
    }
   ],
   "source": [
    "from dotenv import load_dotenv\n",
    "import os\n",
    "from openai import OpenAI\n",
    "import ast\n",
    "import json\n",
    "\n",
    "load_dotenv()"
   ]
  },
  {
   "cell_type": "code",
   "execution_count": 76,
   "metadata": {},
   "outputs": [],
   "source": [
    "# Open instructions json file\n",
    "with open('instructions.json') as f:\n",
    "    instructions = json.load(f)"
   ]
  },
  {
   "cell_type": "code",
   "execution_count": 77,
   "metadata": {},
   "outputs": [],
   "source": [
    "def extract_json_from_prompt(prompt):\n",
    "    \n",
    "    # Load the JSON string into a dictionary to ensure it's valid JSON\n",
    "    json_data = json.loads(prompt)\n",
    "    \n",
    "    return json_data"
   ]
  },
  {
   "cell_type": "code",
   "execution_count": 78,
   "metadata": {},
   "outputs": [],
   "source": [
    "client = OpenAI(\n",
    "    # This is the default and can be omitted\n",
    "    api_key=os.environ.get(\"OPENAI_API_KEY\"),\n",
    ")"
   ]
  },
  {
   "cell_type": "code",
   "execution_count": 80,
   "metadata": {},
   "outputs": [],
   "source": [
    "def prompt_gpt(client, prompt):\n",
    "    # Create chat completion\n",
    "    chat_completion = client.chat.completions.create(\n",
    "        messages=[\n",
    "            {\n",
    "                \"role\": \"user\",\n",
    "                \"content\": prompt,\n",
    "            }\n",
    "        ],\n",
    "        model=\"gpt-4o\",\n",
    "        max_tokens=3000,\n",
    "        temperature=0.9,\n",
    "        n=1,\n",
    "        stop=None\n",
    "    )\n",
    "\n",
    "    # Extract number of tokens from the completion\n",
    "\n",
    "    chat_completion = chat_completion.choices[0].message.content\n",
    "\n",
    "    return chat_completion"
   ]
  },
  {
   "cell_type": "code",
   "execution_count": 118,
   "metadata": {},
   "outputs": [],
   "source": [
    "def extract_json_from_prompt(chat_completion):\n",
    "    # Extract data between ```json\\n and \\n```\n",
    "    json_data = chat_completion.split('```json\\n')[1].split('\\n```')[0]\n",
    "    # Load the JSON string into a dictionary to ensure it's valid JSON\n",
    "    try:\n",
    "        json_data = json.loads(json_data)\n",
    "    except Exception as e:\n",
    "        print(e)\n",
    "    return json_data\n"
   ]
  },
  {
   "cell_type": "code",
   "execution_count": 124,
   "metadata": {},
   "outputs": [],
   "source": [
    "character_info = \"Pufflen the Stoned has super long moustache, which is platted, long hair, he is asian, and a human wizard, who is a massive stoner and a big fan of the Woodland elves dank weed\"\n",
    "# character_info += '. Make the difficulty for level 1 DnD players'\n",
    "character_info += 'This character can join the party, so their level is 2'"
   ]
  },
  {
   "cell_type": "code",
   "execution_count": 126,
   "metadata": {},
   "outputs": [
    {
     "data": {
      "text/plain": [
       "'Pufflen the Stoned has super long moustache, which is platted, long hair, he is asian, and a human wizard, who is a massive stoner and a big fan of the Woodland elves dank weedThis character can join the party, so their level is 2'"
      ]
     },
     "execution_count": 126,
     "metadata": {},
     "output_type": "execute_result"
    }
   ],
   "source": [
    "character_info"
   ]
  },
  {
   "cell_type": "markdown",
   "metadata": {},
   "source": [
    "# Generate new character info"
   ]
  },
  {
   "cell_type": "code",
   "execution_count": 127,
   "metadata": {},
   "outputs": [],
   "source": [
    "prompt = (\n",
    "    f\"Here is added information about the character I would like you to know about: {character_info}\\n\"\n",
    "    \"Generate new values for each of the keys in this JSON structure:\\n\"\n",
    "    f\"Here is the new JSON with generated values:\\n{instructions}\\n\\n\"\n",
    ")"
   ]
  },
  {
   "cell_type": "code",
   "execution_count": 128,
   "metadata": {},
   "outputs": [
    {
     "name": "stdout",
     "output_type": "stream",
     "text": [
      "Generated JSON has the correct number of keys.\n"
     ]
    }
   ],
   "source": [
    "import json\n",
    "file_name = '../content.json'\n",
    "\n",
    "while True:\n",
    "    chat_completion = prompt_gpt(client=client, prompt=prompt)\n",
    "    content_json = extract_json_from_prompt(chat_completion)\n",
    "    if len(content_json) == len(instructions):\n",
    "        print(\"Generated JSON has the correct number of keys.\")\n",
    "        with open(file_name, 'w') as f:\n",
    "            json.dump(content_json, f, indent=4)\n",
    "        break\n"
   ]
  },
  {
   "cell_type": "markdown",
   "metadata": {},
   "source": [
    "# Generate Character image"
   ]
  },
  {
   "cell_type": "markdown",
   "metadata": {},
   "source": []
  }
 ],
 "metadata": {
  "kernelspec": {
   "display_name": "synth-cpt_py310",
   "language": "python",
   "name": "python3"
  },
  "language_info": {
   "codemirror_mode": {
    "name": "ipython",
    "version": 3
   },
   "file_extension": ".py",
   "mimetype": "text/x-python",
   "name": "python",
   "nbconvert_exporter": "python",
   "pygments_lexer": "ipython3",
   "version": "3.10.12"
  }
 },
 "nbformat": 4,
 "nbformat_minor": 2
}
